{
 "cells": [
  {
   "cell_type": "markdown",
   "id": "a6bfdbe7",
   "metadata": {},
   "source": [
    "# Customer Data Analysis"
   ]
  },
  {
   "cell_type": "markdown",
   "id": "2ca79593",
   "metadata": {},
   "source": [
    "# IMPORT LIBRARIES "
   ]
  },
  {
   "cell_type": "code",
   "execution_count": 1,
   "id": "c2e34bd2",
   "metadata": {},
   "outputs": [],
   "source": [
    "import pandas as pd \n",
    "import numpy as np \n",
    "import matplotlib as plt\n",
    "import pyodbc\n",
    "from datetime import datetime"
   ]
  },
  {
   "cell_type": "markdown",
   "id": "697d95de",
   "metadata": {},
   "source": [
    "# IMPORT DATA and CONNECTING TO SQL"
   ]
  },
  {
   "cell_type": "code",
   "execution_count": 9,
   "id": "8d0a7fb3",
   "metadata": {},
   "outputs": [],
   "source": [
    "conn = pyodbc.connect(\n",
    "    'DRIVER={SQL Server};'\n",
    "    'SERVER=.;'\n",
    "    'DATABASE=CUSTOMERDB;'\n",
    "    'UID=Nssr;'\n",
    "    'PWD=abcd@123'\n",
    ")"
   ]
  },
  {
   "cell_type": "markdown",
   "id": "8c30b233",
   "metadata": {},
   "source": [
    "# DATA LOADING"
   ]
  },
  {
   "cell_type": "code",
   "execution_count": 11,
   "id": "64bc680d",
   "metadata": {},
   "outputs": [
    {
     "name": "stderr",
     "output_type": "stream",
     "text": [
      "C:\\Users\\user\\AppData\\Local\\Temp\\ipykernel_20708\\1168789643.py:8: UserWarning: pandas only supports SQLAlchemy connectable (engine/connection) or database string URI or sqlite3 DBAPI2 connection. Other DBAPI2 objects are not tested. Please consider using SQLAlchemy.\n",
      "  customer_data = pd.read_sql(query, conn)\n",
      "C:\\Users\\user\\AppData\\Local\\Temp\\ipykernel_20708\\1168789643.py:9: UserWarning: pandas only supports SQLAlchemy connectable (engine/connection) or database string URI or sqlite3 DBAPI2 connection. Other DBAPI2 objects are not tested. Please consider using SQLAlchemy.\n",
      "  interaction_data = pd.read_sql(query2, conn)\n",
      "C:\\Users\\user\\AppData\\Local\\Temp\\ipykernel_20708\\1168789643.py:10: UserWarning: pandas only supports SQLAlchemy connectable (engine/connection) or database string URI or sqlite3 DBAPI2 connection. Other DBAPI2 objects are not tested. Please consider using SQLAlchemy.\n",
      "  order_data = pd.read_sql(query3, conn)\n",
      "C:\\Users\\user\\AppData\\Local\\Temp\\ipykernel_20708\\1168789643.py:11: UserWarning: pandas only supports SQLAlchemy connectable (engine/connection) or database string URI or sqlite3 DBAPI2 connection. Other DBAPI2 objects are not tested. Please consider using SQLAlchemy.\n",
      "  transaction_data  = pd.read_sql(query4, conn)\n"
     ]
    }
   ],
   "source": [
    "#WRITING SQL QUERIES \n",
    "query = \"SELECT * from Customer_Data\"\n",
    "query2 = \"SELECT * from interaction_data\"\n",
    "query3 = \"SELECT * from Order_Data\"\n",
    "query4 = \"SELECT * from Transaction_Data\"\n",
    "# DATA FRAME LOADING USING PANDAS AND SQL QUERIES \n",
    "customer_data = pd.read_sql(query, conn)\n",
    "interaction_data = pd.read_sql(query2, conn)\n",
    "order_data = pd.read_sql(query3, conn)\n",
    "transaction_data  = pd.read_sql(query4, conn)\n",
    "conn.close()"
   ]
  },
  {
   "cell_type": "markdown",
   "id": "2ef7ae28",
   "metadata": {},
   "source": [
    "# DATA ANALYZING"
   ]
  },
  {
   "cell_type": "markdown",
   "id": "b1904a1c",
   "metadata": {},
   "source": [
    "# customer and interaction"
   ]
  },
  {
   "cell_type": "code",
   "execution_count": 15,
   "id": "295e0c51",
   "metadata": {},
   "outputs": [
    {
     "name": "stdout",
     "output_type": "stream",
     "text": [
      "Age Analysis of Customers:\n",
      "count    2999.000000\n",
      "mean       54.675810\n",
      "std        21.171440\n",
      "min        18.080767\n",
      "25%        36.258727\n",
      "50%        54.266940\n",
      "75%        73.141684\n",
      "max        91.063655\n",
      "Name: Age, dtype: float64\n"
     ]
    }
   ],
   "source": [
    "\n",
    "customer_data['Join_Date'] = pd.to_datetime(customer_data['Join_Date'], errors='coerce')\n",
    "customer_data['Date_Assigned'] = pd.to_datetime(customer_data['Date_Assigned'], errors='coerce')\n",
    "customer_data['Birthdate'] = pd.to_datetime(customer_data['Birthdate'], errors='coerce')\n",
    "# 1. Age Analysis of Customers\n",
    "# Correct way to calculate age in years by dividing by 365.25 to account for leap years\n",
    "customer_data['Age'] = (pd.Timestamp.now() - customer_data['Birthdate']).dt.days / 365.25\n",
    "age_analysis = customer_data['Age'].describe()\n",
    "# Print the age analysis\n",
    "print(\"Age Analysis of Customers:\")\n",
    "print(age_analysis)\n",
    "\n"
   ]
  },
  {
   "cell_type": "code",
   "execution_count": 16,
   "id": "27547764",
   "metadata": {},
   "outputs": [
    {
     "name": "stdout",
     "output_type": "stream",
     "text": [
      "\n",
      "Interaction Frequency by Segment:\n",
      "Segment\n",
      "Premium    1030\n",
      "Regular     987\n",
      "VIP         982\n",
      "Name: Interaction_ID, dtype: int64\n"
     ]
    }
   ],
   "source": [
    "# 2. Interaction Frequency by Customer Segment\n",
    "# Merge customer data with interaction data on Customer_ID\n",
    "merged_data = pd.merge(interaction_data, customer_data, on='Customer_ID', how='inner')\n",
    "\n",
    "# Group interactions by customer segment\n",
    "interaction_by_segment = merged_data.groupby('Segment')['Interaction_ID'].count()\n",
    "\n",
    "# Print the interaction frequency by segment\n",
    "print(\"\\nInteraction Frequency by Segment:\")\n",
    "print(interaction_by_segment)"
   ]
  },
  {
   "cell_type": "code",
   "execution_count": 17,
   "id": "821bfe11",
   "metadata": {},
   "outputs": [
    {
     "name": "stdout",
     "output_type": "stream",
     "text": [
      "\n",
      "Interaction Types by Segment:\n",
      "Interaction_Type  Email  In-Person Meeting  Phone Call  \\\n",
      "Segment                                                  \n",
      "Premium             262                248         254   \n",
      "Regular             258                257         243   \n",
      "VIP                 235                280         242   \n",
      "\n",
      "Interaction_Type  Social Media Interaction  \n",
      "Segment                                     \n",
      "Premium                                266  \n",
      "Regular                                229  \n",
      "VIP                                    225  \n"
     ]
    }
   ],
   "source": [
    "# 3. Interaction Types Distribution Across Customer Segments\n",
    "interaction_type_by_segment = merged_data.groupby(['Segment', 'Interaction_Type']).size().unstack(fill_value=0)\n",
    "\n",
    "# Print the interaction types by segment\n",
    "print(\"\\nInteraction Types by Segment:\")\n",
    "print(interaction_type_by_segment)\n"
   ]
  },
  {
   "cell_type": "markdown",
   "id": "e9f8daa8",
   "metadata": {},
   "source": [
    "# customer and orders"
   ]
  },
  {
   "cell_type": "code",
   "execution_count": 19,
   "id": "d7e0d924",
   "metadata": {},
   "outputs": [
    {
     "name": "stdout",
     "output_type": "stream",
     "text": [
      "Customer Data Summary:\n",
      "        Customer_ID First_Name Last_Name            Email              Phone  \\\n",
      "count   2999.000000       2999      2999             2999               2999   \n",
      "unique          NaN        540       831             2993               2999   \n",
      "top             NaN    Michael     Smith  jgill@gmail.com  (442)749-3583x632   \n",
      "freq            NaN         79        72                2                  1   \n",
      "mean    1500.000000        NaN       NaN              NaN                NaN   \n",
      "min        1.000000        NaN       NaN              NaN                NaN   \n",
      "25%      750.500000        NaN       NaN              NaN                NaN   \n",
      "50%     1500.000000        NaN       NaN              NaN                NaN   \n",
      "75%     2249.500000        NaN       NaN              NaN                NaN   \n",
      "max     2999.000000        NaN       NaN              NaN                NaN   \n",
      "std      865.881054        NaN       NaN              NaN                NaN   \n",
      "\n",
      "       Gender                      Birthdate                      Join_Date  \\\n",
      "count    2999                           2999                           2999   \n",
      "unique      2                            NaN                            NaN   \n",
      "top      Male                            NaN                            NaN   \n",
      "freq     1509                            NaN                            NaN   \n",
      "mean      NaN  1970-02-17 15:51:11.823941314  2022-04-08 06:16:26.728909824   \n",
      "min       NaN            1933-09-29 00:00:00            2019-09-24 00:00:00   \n",
      "25%       NaN            1951-09-01 00:00:00            2020-12-21 00:00:00   \n",
      "50%       NaN            1970-07-17 00:00:00            2022-05-05 00:00:00   \n",
      "75%       NaN            1988-07-19 12:00:00            2023-07-25 00:00:00   \n",
      "max       NaN            2006-09-23 00:00:00            2024-09-23 00:00:00   \n",
      "std       NaN                            NaN                            NaN   \n",
      "\n",
      "         Location Segment                  Date_Assigned          Age  \n",
      "count        2999    2999                           2999  2999.000000  \n",
      "unique       2708       3                            NaN          NaN  \n",
      "top     West Lisa     VIP                            NaN          NaN  \n",
      "freq            5    1032                            NaN          NaN  \n",
      "mean          NaN     NaN  2022-03-28 22:27:19.746582272    54.675810  \n",
      "min           NaN     NaN            2019-09-24 00:00:00    18.080767  \n",
      "25%           NaN     NaN            2020-12-25 12:00:00    36.258727  \n",
      "50%           NaN     NaN            2022-03-16 00:00:00    54.266940  \n",
      "75%           NaN     NaN            2023-07-15 00:00:00    73.141684  \n",
      "max           NaN     NaN            2024-09-23 00:00:00    91.063655  \n",
      "std           NaN     NaN                            NaN    21.171440  \n",
      "\n",
      "Order Data Summary:\n",
      "           Order_ID  Customer_ID                     Order_Date     Quantity\n",
      "count  2.999000e+03  2999.000000                           2999  2999.000000\n",
      "mean   3.001500e+06  1485.088363  2022-03-31 05:56:16.725575168     5.544848\n",
      "min    3.000000e+06     2.000000            2019-09-24 00:00:00     1.000000\n",
      "25%    3.000750e+06   729.500000            2021-01-10 00:00:00     3.000000\n",
      "50%    3.001500e+06  1482.000000            2022-04-07 00:00:00     6.000000\n",
      "75%    3.002250e+06  2237.500000            2023-06-08 00:00:00     8.000000\n",
      "max    3.002999e+06  2997.000000            2024-10-06 00:00:00    12.000000\n",
      "std    8.658839e+02   861.827906                            NaN     2.843114\n",
      "\n",
      "Order Trends Over Time:\n",
      "Order_Date\n",
      "2019-09    13\n",
      "2019-10    45\n",
      "2019-11    45\n",
      "2019-12    55\n",
      "2020-01    47\n",
      "           ..\n",
      "2024-06    48\n",
      "2024-07    59\n",
      "2024-08    49\n",
      "2024-09    29\n",
      "2024-10     1\n",
      "Freq: M, Length: 62, dtype: int64\n",
      "\n",
      "Number of Orders by Customer Segment:\n",
      "Segment\n",
      "Premium     938\n",
      "Regular    1019\n",
      "VIP        1042\n",
      "Name: Order_ID, dtype: int64\n"
     ]
    }
   ],
   "source": [
    "# Parse date columns to allow for date-based operations\n",
    "customer_data['Join_Date'] = pd.to_datetime(customer_data['Join_Date'], errors='coerce')\n",
    "customer_data['Date_Assigned'] = pd.to_datetime(customer_data['Date_Assigned'], errors='coerce')\n",
    "customer_data['Birthdate'] = pd.to_datetime(customer_data['Birthdate'], errors='coerce')\n",
    "order_data['Order_Date'] = pd.to_datetime(order_data['Order_Date'], errors='coerce')\n",
    "\n",
    "# 1. Basic summary statistics for both datasets\n",
    "customer_summary = customer_data.describe(include='all')\n",
    "order_summary = order_data.describe()\n",
    "\n",
    "# Print the summaries\n",
    "print(\"Customer Data Summary:\")\n",
    "print(customer_summary)\n",
    "\n",
    "print(\"\\nOrder Data Summary:\")\n",
    "print(order_summary)\n",
    "\n",
    "# 2. Analyzing order trends over time (grouped by month)\n",
    "order_trends = order_data.groupby(order_data['Order_Date'].dt.to_period('M')).size()\n",
    "\n",
    "# Print order trends over time\n",
    "print(\"\\nOrder Trends Over Time:\")\n",
    "print(order_trends)\n",
    "# 3. Analyzing number of orders per customer segment\n",
    "# Merging customer and order data\n",
    "merged_data = pd.merge(order_data, customer_data, on='Customer_ID', how='inner')\n",
    "\n",
    "# Grouping by customer segment and counting orders\n",
    "orders_by_segment = merged_data.groupby('Segment')['Order_ID'].count()\n",
    "\n",
    "# Print the number of orders by customer segment\n",
    "print(\"\\nNumber of Orders by Customer Segment:\")\n",
    "print(orders_by_segment)"
   ]
  },
  {
   "cell_type": "markdown",
   "id": "25edba56",
   "metadata": {},
   "source": [
    "# customer and transaction"
   ]
  },
  {
   "cell_type": "code",
   "execution_count": 20,
   "id": "edd0d0a2",
   "metadata": {},
   "outputs": [
    {
     "name": "stdout",
     "output_type": "stream",
     "text": [
      "Total Transactions: 2998\n",
      "Total Amount Spent: 771384.9093952179\n",
      "Segment Analysis:\n",
      "   Segment  total_transactions  total_amount_spent\n",
      "0  Premium                 927       240476.869785\n",
      "1  Regular                1028       261961.349739\n",
      "2      VIP                1043       268946.689871\n",
      "Highest Spender:\n",
      "Customer_ID           1495\n",
      "First_Name           Emily\n",
      "Last_Name             Reed\n",
      "total_spent    1686.089981\n",
      "Name: 958, dtype: object\n"
     ]
    }
   ],
   "source": [
    "#  Merge the datasets on 'Customer_ID'\n",
    "merged_data = pd.merge(transaction_data, customer_data, on='Customer_ID', how='left')\n",
    "\n",
    "#  Total transactions and total amount spent\n",
    "total_transactions = merged_data['Transaction_ID'].nunique()\n",
    "total_amount_spent = merged_data['Amount'].sum()\n",
    "print(f\"Total Transactions: {total_transactions}\")\n",
    "print(f\"Total Amount Spent: {total_amount_spent}\")\n",
    "\n",
    "#  Segment analysis: transactions and amount per customer segment\n",
    "segment_analysis = merged_data.groupby('Segment').agg(\n",
    "    total_transactions=('Transaction_ID', 'nunique'),\n",
    "    total_amount_spent=('Amount', 'sum')\n",
    ").reset_index()\n",
    "print(\"Segment Analysis:\")\n",
    "print(segment_analysis)\n",
    "\n",
    "#  Customer with the highest total spend\n",
    "customer_spend = merged_data.groupby(['Customer_ID', 'First_Name', 'Last_Name']).agg(\n",
    "    total_spent=('Amount', 'sum')\n",
    ").reset_index()\n",
    "highest_spender = customer_spend.sort_values(by='total_spent', ascending=False).iloc[0]\n",
    "print(\"Highest Spender:\")\n",
    "print(highest_spender)"
   ]
  },
  {
   "cell_type": "code",
   "execution_count": 21,
   "id": "00b985f8",
   "metadata": {},
   "outputs": [
    {
     "name": "stdout",
     "output_type": "stream",
     "text": [
      "Age Group Analysis:\n",
      "  Age_Group  total_transactions  total_amount_spent\n",
      "0  Under 18                   0            0.000000\n",
      "1     18-30                 489       122141.209730\n",
      "2     31-45                 611       157901.969951\n",
      "3     46-60                 661       174245.989742\n",
      "4  Above 60                1237       317095.739972\n"
     ]
    }
   ],
   "source": [
    "# Age calculation and group analysis\n",
    "customer_data['Birthdate'] = pd.to_datetime(customer_data['Birthdate'], errors='coerce')\n",
    "current_year = datetime.now().year\n",
    "customer_data['Age'] = current_year - customer_data['Birthdate'].dt.year\n",
    "\n",
    "# Define age groups\n",
    "bins = [0, 18, 30, 45, 60, 100]\n",
    "labels = ['Under 18', '18-30', '31-45', '46-60', 'Above 60']\n",
    "customer_data['Age_Group'] = pd.cut(customer_data['Age'], bins=bins, labels=labels, right=False)\n",
    "\n",
    "# Merge age data with transaction data\n",
    "merged_data_with_age = pd.merge(transaction_data, customer_data[['Customer_ID', 'Age_Group']], on='Customer_ID', how='left')\n",
    "\n",
    "# Analyze spending per age group\n",
    "age_group_analysis = merged_data_with_age.groupby('Age_Group').agg(\n",
    "    total_transactions=('Transaction_ID', 'nunique'),\n",
    "    total_amount_spent=('Amount', 'sum')\n",
    ").reset_index()\n",
    "print(\"Age Group Analysis:\")\n",
    "print(age_group_analysis)"
   ]
  },
  {
   "cell_type": "code",
   "execution_count": 22,
   "id": "38fc07ac",
   "metadata": {},
   "outputs": [
    {
     "name": "stdout",
     "output_type": "stream",
     "text": [
      "Monthly Spending Analysis:\n",
      "   Year_Month  total_transactions  total_amount_spent\n",
      "0     2019-09                  10         2049.580011\n",
      "1     2019-10                  59        14544.049944\n",
      "2     2019-11                  65        17697.310108\n",
      "3     2019-12                  51        12623.670019\n",
      "4     2020-01                  46        11957.809948\n",
      "..        ...                 ...                 ...\n",
      "56    2024-05                  53        15950.339988\n",
      "57    2024-06                  45        13029.979948\n",
      "58    2024-07                  49        10871.099924\n",
      "59    2024-08                  44        10150.460047\n",
      "60    2024-09                  42         9882.710029\n",
      "\n",
      "[61 rows x 3 columns]\n"
     ]
    }
   ],
   "source": [
    "#  Analyze spending over time (monthly)\n",
    "merged_data['Purchase_Date'] = pd.to_datetime(merged_data['Purchase_Date'], errors='coerce')\n",
    "merged_data['Year_Month'] = merged_data['Purchase_Date'].dt.to_period('M')\n",
    "\n",
    "# Spending analysis per month\n",
    "monthly_spending_analysis = merged_data.groupby('Year_Month').agg(\n",
    "    total_transactions=('Transaction_ID', 'nunique'),\n",
    "    total_amount_spent=('Amount', 'sum')\n",
    ").reset_index()\n",
    "print(\"Monthly Spending Analysis:\")\n",
    "print(monthly_spending_analysis)"
   ]
  },
  {
   "cell_type": "code",
   "execution_count": 23,
   "id": "98ec5682",
   "metadata": {},
   "outputs": [
    {
     "name": "stdout",
     "output_type": "stream",
     "text": [
      "Customer Loyalty Analysis:\n",
      "      Customer_ID  total_transactions  total_amount_spent first_purchase  \\\n",
      "0               2                   2          742.369995     2021-05-02   \n",
      "1               4                   1          336.010010     2021-01-19   \n",
      "2               5                   2          627.360001     2022-06-22   \n",
      "3               6                   1           65.389999     2020-07-01   \n",
      "4               7                   1          162.899994     2019-10-21   \n",
      "...           ...                 ...                 ...            ...   \n",
      "1899         2994                   1          332.070007     2020-05-17   \n",
      "1900         2996                   1          241.339996     2023-10-21   \n",
      "1901         2997                   1           58.939999     2023-08-11   \n",
      "1902         2998                   2          354.910004     2020-10-17   \n",
      "1903         2999                   1          316.739990     2024-04-11   \n",
      "\n",
      "     last_purchase  avg_amount_per_transaction  \n",
      "0       2021-06-07                  371.184998  \n",
      "1       2021-01-19                  336.010010  \n",
      "2       2023-02-18                  313.680000  \n",
      "3       2020-07-01                   65.389999  \n",
      "4       2019-10-21                  162.899994  \n",
      "...            ...                         ...  \n",
      "1899    2020-05-17                  332.070007  \n",
      "1900    2023-10-21                  241.339996  \n",
      "1901    2023-08-11                   58.939999  \n",
      "1902    2024-05-16                  177.455002  \n",
      "1903    2024-04-11                  316.739990  \n",
      "\n",
      "[1904 rows x 6 columns]\n"
     ]
    }
   ],
   "source": [
    "#  Customer loyalty: number of transactions and average spend per customer\n",
    "loyalty_analysis = merged_data.groupby('Customer_ID').agg(\n",
    "    total_transactions=('Transaction_ID', 'count'),\n",
    "    total_amount_spent=('Amount', 'sum'),\n",
    "    first_purchase=('Purchase_Date', 'min'),\n",
    "    last_purchase=('Purchase_Date', 'max')\n",
    ").reset_index()\n",
    "\n",
    "loyalty_analysis['avg_amount_per_transaction'] = loyalty_analysis['total_amount_spent'] / loyalty_analysis['total_transactions']\n",
    "print(\"Customer Loyalty Analysis:\")\n",
    "print(loyalty_analysis)\n",
    "\n",
    "#  New vs Existing Customers Analysis\n",
    "customer_data['Join_Date'] = pd.to_datetime(customer_data['Join_Date'], errors='coerce')\n",
    "\n",
    "# Define 'new' customers as those who joined in the last year from the most recent transaction date\n",
    "recent_cutoff = merged_data['Purchase_Date'].max() - pd.DateOffset(years=1)\n",
    "customer_data['Customer_Status'] = customer_data['Join_Date'].apply(lambda x: 'New' if x >= recent_cutoff else 'Existing')\n",
    "\n",
    "# Merge the customer status back into the transaction data\n",
    "merged_data_with_status = pd.merge(merged_data, customer_data[['Customer_ID', 'Customer_Status']], on='Customer_ID', how='left')"
   ]
  },
  {
   "cell_type": "code",
   "execution_count": 24,
   "id": "b5517567",
   "metadata": {},
   "outputs": [
    {
     "name": "stdout",
     "output_type": "stream",
     "text": [
      "Customer Status Analysis (New vs Existing):\n",
      "  Customer_Status  total_transactions  total_amount_spent\n",
      "0        Existing                2414       622894.279368\n",
      "1             New                 584       148490.630027\n",
      "Inactive Customers:\n",
      "      Customer_ID  total_transactions  total_amount_spent first_purchase  \\\n",
      "0               2                   2          742.369995     2021-05-02   \n",
      "1               4                   1          336.010010     2021-01-19   \n",
      "2               5                   2          627.360001     2022-06-22   \n",
      "3               6                   1           65.389999     2020-07-01   \n",
      "4               7                   1          162.899994     2019-10-21   \n",
      "...           ...                 ...                 ...            ...   \n",
      "1897         2991                   1          137.830002     2019-10-04   \n",
      "1898         2992                   2          457.130005     2020-05-13   \n",
      "1899         2994                   1          332.070007     2020-05-17   \n",
      "1900         2996                   1          241.339996     2023-10-21   \n",
      "1901         2997                   1           58.939999     2023-08-11   \n",
      "\n",
      "     last_purchase  avg_amount_per_transaction  \n",
      "0       2021-06-07                  371.184998  \n",
      "1       2021-01-19                  336.010010  \n",
      "2       2023-02-18                  313.680000  \n",
      "3       2020-07-01                   65.389999  \n",
      "4       2019-10-21                  162.899994  \n",
      "...            ...                         ...  \n",
      "1897    2019-10-04                  137.830002  \n",
      "1898    2020-07-29                  228.565002  \n",
      "1899    2020-05-17                  332.070007  \n",
      "1900    2023-10-21                  241.339996  \n",
      "1901    2023-08-11                   58.939999  \n",
      "\n",
      "[1628 rows x 6 columns]\n"
     ]
    }
   ],
   "source": [
    "# Analyze total spend and transactions by customer status\n",
    "status_analysis = merged_data_with_status.groupby('Customer_Status').agg(\n",
    "    total_transactions=('Transaction_ID', 'nunique'),\n",
    "    total_amount_spent=('Amount', 'sum')\n",
    ").reset_index()\n",
    "print(\"Customer Status Analysis (New vs Existing):\")\n",
    "print(status_analysis)\n",
    "\n",
    "#  Identify inactive customers (no transactions in the last 6 months)\n",
    "inactive_cutoff = merged_data['Purchase_Date'].max() - pd.DateOffset(months=6)\n",
    "inactive_customers = loyalty_analysis[loyalty_analysis['last_purchase'] < inactive_cutoff]\n",
    "print(\"Inactive Customers:\")\n",
    "print(inactive_customers)"
   ]
  }
 ],
 "metadata": {
  "kernelspec": {
   "display_name": "Python 3 (ipykernel)",
   "language": "python",
   "name": "python3"
  },
  "language_info": {
   "codemirror_mode": {
    "name": "ipython",
    "version": 3
   },
   "file_extension": ".py",
   "mimetype": "text/x-python",
   "name": "python",
   "nbconvert_exporter": "python",
   "pygments_lexer": "ipython3",
   "version": "3.11.5"
  }
 },
 "nbformat": 4,
 "nbformat_minor": 5
}
